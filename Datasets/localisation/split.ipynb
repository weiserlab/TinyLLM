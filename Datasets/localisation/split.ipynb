{
 "cells": [
  {
   "cell_type": "code",
   "execution_count": 1,
   "metadata": {},
   "outputs": [],
   "source": [
    "import pandas as pd\n",
    "import numpy as np"
   ]
  },
  {
   "cell_type": "code",
   "execution_count": 3,
   "metadata": {},
   "outputs": [
    {
     "name": "stdout",
     "output_type": "stream",
     "text": [
      "['Entrance' 'Server Rack']\n"
     ]
    },
    {
     "name": "stderr",
     "output_type": "stream",
     "text": [
      "/tmp/ipykernel_213152/1112905878.py:13: FutureWarning: ChainedAssignmentError: behaviour will change in pandas 3.0!\n",
      "You are setting values through chained assignment. Currently this works in certain cases, but when using Copy-on-Write (which will become the default behaviour in pandas 3.0) this will never work to update the original DataFrame or Series, because the intermediate object on which we are setting values will behave as a copy.\n",
      "A typical example is when you are setting values in a column of a DataFrame, like:\n",
      "\n",
      "df[\"col\"][row_indexer] = value\n",
      "\n",
      "Use `df.loc[row_indexer, \"col\"] = values` instead, to perform the assignment in a single step and ensure this keeps updating the original `df`.\n",
      "\n",
      "See the caveats in the documentation: https://pandas.pydata.org/pandas-docs/stable/user_guide/indexing.html#returning-a-view-versus-a-copy\n",
      "\n",
      "  df['Question'][i] = df['Question'][i].replace('\\n', ',')\n"
     ]
    }
   ],
   "source": [
    "# read dataset.xlsx sheet 'Environment' which has 2 columns. Sort by the second column and create 3 files test, train and validation\\\n",
    "#  with 0.7, 0.2 and 0.1 data. There should be equal split of all the values in the second column in all the files.\n",
    "\n",
    "df = pd.read_excel('dataset.xlsx', sheet_name='Environment', header= 0)\n",
    "df = df.sort_values(by=['Answer'])\n",
    "df = df.reset_index(drop=True)\n",
    "\n",
    "# print(df.head())\n",
    "# break\n",
    "\n",
    "# in each entry in column 1, replace \\n with comma\n",
    "for i in range(len(df)):\n",
    "    df['Question'][i] = df['Question'][i].replace('\\n', ',')\n",
    "\n",
    "# get the unique values of the second column\n",
    "unique_values = df['Answer'].unique()\n",
    "\n",
    "# extract the column names\n",
    "headers = ['Question', 'Answer']\n",
    "# now split the data into train, test and validation classes. Each class should have equal distribution of the unique values\n",
    "train = pd.DataFrame(columns=headers)\n",
    "test = pd.DataFrame(columns=headers)\n",
    "validation = pd.DataFrame(columns=headers)\n",
    "\n",
    "# print(train.head())\n",
    "print(unique_values[1:])\n",
    "for value in unique_values:\n",
    "    # print(value)\n",
    "    temp = df[df['Answer'] == value]\n",
    "    n = len(temp)\n",
    "    train_size = int(0.7 * n)\n",
    "    test_size = int(0.2 * n)\n",
    "    validation_size = n - train_size - test_size\n",
    "    # print(temp.iloc[:train_size].head())\n",
    "    # break\n",
    "    train = pd.concat([train, temp.iloc[:train_size]])\n",
    "    test = pd.concat([test, temp.iloc[train_size:train_size+test_size]])\n",
    "    validation = pd.concat([validation, temp.iloc[train_size+test_size:]])\n",
    "\n",
    "\n",
    "total = pd.DataFrame(columns=headers)\n",
    "total = pd.concat([total, train])\n",
    "total = pd.concat([total, test])\n",
    "total = pd.concat([total, validation])\n",
    "\n",
    "total.to_csv('total.csv', index=False, header=True)\n",
    "\n",
    "\n",
    "\n",
    "\n",
    "# train.to_csv('train.csv', index=False, header=True)\n",
    "# test.to_csv('test.csv', index=False, header=True)\n",
    "# validation.to_csv('validation.csv', index=False, header=True)\n",
    "\n",
    "\n",
    "\n",
    "\n",
    "# # in every entry of the first column, replace \\n with comma\n",
    "\n",
    "\n"
   ]
  },
  {
   "cell_type": "code",
   "execution_count": 25,
   "metadata": {},
   "outputs": [
    {
     "data": {
      "text/plain": [
       "['Question', 'Answer']"
      ]
     },
     "execution_count": 25,
     "metadata": {},
     "output_type": "execute_result"
    }
   ],
   "source": [
    "[headers[0],headers[1]]\n"
   ]
  }
 ],
 "metadata": {
  "kernelspec": {
   "display_name": "lab_python",
   "language": "python",
   "name": "python3"
  },
  "language_info": {
   "codemirror_mode": {
    "name": "ipython",
    "version": 3
   },
   "file_extension": ".py",
   "mimetype": "text/x-python",
   "name": "python",
   "nbconvert_exporter": "python",
   "pygments_lexer": "ipython3",
   "version": "3.12.3"
  }
 },
 "nbformat": 4,
 "nbformat_minor": 2
}
